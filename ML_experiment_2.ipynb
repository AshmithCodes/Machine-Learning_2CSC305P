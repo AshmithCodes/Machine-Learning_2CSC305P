{
  "nbformat": 4,
  "nbformat_minor": 0,
  "metadata": {
    "colab": {
      "provenance": [],
      "authorship_tag": "ABX9TyO9SOIUO+wDOl9+XKhPBHLM"
    },
    "kernelspec": {
      "name": "python3",
      "display_name": "Python 3"
    },
    "language_info": {
      "name": "python"
    }
  },
  "cells": [
    {
      "cell_type": "code",
      "execution_count": 3,
      "metadata": {
        "colab": {
          "base_uri": "https://localhost:8080/"
        },
        "id": "skJ0MjaYKY5q",
        "outputId": "834be6ea-4df2-4493-cbf5-7bf2eeb9d663"
      },
      "outputs": [
        {
          "output_type": "stream",
          "name": "stdout",
          "text": [
            "\n",
            "\n",
            "\n",
            "<bound method DataFrame.sum of       MODELYEAR   MAKE  MODEL  VEHICLECLASS  ENGINESIZE  CYLINDERS  \\\n",
            "0         False  False  False         False       False      False   \n",
            "1         False  False  False         False       False      False   \n",
            "2         False  False  False         False       False      False   \n",
            "3         False  False  False         False       False      False   \n",
            "4         False  False  False         False       False      False   \n",
            "...         ...    ...    ...           ...         ...        ...   \n",
            "1062      False  False  False         False       False      False   \n",
            "1063      False  False  False         False       False      False   \n",
            "1064      False  False  False         False       False      False   \n",
            "1065      False  False  False         False       False      False   \n",
            "1066      False  False  False         False       False      False   \n",
            "\n",
            "      TRANSMISSION  FUELTYPE  FUELCONSUMPTION_CITY  FUELCONSUMPTION_HWY  \\\n",
            "0            False     False                 False                False   \n",
            "1            False     False                 False                False   \n",
            "2            False     False                 False                False   \n",
            "3            False     False                 False                False   \n",
            "4            False     False                 False                False   \n",
            "...            ...       ...                   ...                  ...   \n",
            "1062         False     False                 False                False   \n",
            "1063         False     False                 False                False   \n",
            "1064         False     False                 False                False   \n",
            "1065         False     False                 False                False   \n",
            "1066         False     False                 False                False   \n",
            "\n",
            "      FUELCONSUMPTION_COMB  FUELCONSUMPTION_COMB_MPG  CO2EMISSIONS  \n",
            "0                    False                     False         False  \n",
            "1                    False                     False         False  \n",
            "2                    False                     False         False  \n",
            "3                    False                     False         False  \n",
            "4                    False                     False         False  \n",
            "...                    ...                       ...           ...  \n",
            "1062                 False                     False         False  \n",
            "1063                 False                     False         False  \n",
            "1064                 False                     False         False  \n",
            "1065                 False                     False         False  \n",
            "1066                 False                     False         False  \n",
            "\n",
            "[1067 rows x 13 columns]>\n",
            "<bound method DataFrame.sum of       MODELYEAR   MAKE  MODEL  VEHICLECLASS  ENGINESIZE  CYLINDERS  \\\n",
            "0         False  False  False         False       False      False   \n",
            "1         False  False  False         False       False      False   \n",
            "2         False  False  False         False       False      False   \n",
            "3         False  False  False         False       False      False   \n",
            "4         False  False  False         False       False      False   \n",
            "...         ...    ...    ...           ...         ...        ...   \n",
            "1062      False  False  False         False       False      False   \n",
            "1063      False  False  False         False       False      False   \n",
            "1064      False  False  False         False       False      False   \n",
            "1065      False  False  False         False       False      False   \n",
            "1066      False  False  False         False       False      False   \n",
            "\n",
            "      TRANSMISSION  FUELTYPE  FUELCONSUMPTION_CITY  FUELCONSUMPTION_HWY  \\\n",
            "0            False     False                 False                False   \n",
            "1            False     False                 False                False   \n",
            "2            False     False                 False                False   \n",
            "3            False     False                 False                False   \n",
            "4            False     False                 False                False   \n",
            "...            ...       ...                   ...                  ...   \n",
            "1062         False     False                 False                False   \n",
            "1063         False     False                 False                False   \n",
            "1064         False     False                 False                False   \n",
            "1065         False     False                 False                False   \n",
            "1066         False     False                 False                False   \n",
            "\n",
            "      FUELCONSUMPTION_COMB  FUELCONSUMPTION_COMB_MPG  CO2EMISSIONS  \n",
            "0                    False                     False         False  \n",
            "1                    False                     False         False  \n",
            "2                    False                     False         False  \n",
            "3                    False                     False         False  \n",
            "4                    False                     False         False  \n",
            "...                    ...                       ...           ...  \n",
            "1062                 False                     False         False  \n",
            "1063                 False                     False         False  \n",
            "1064                 False                     False         False  \n",
            "1065                 False                     False         False  \n",
            "1066                 False                     False         False  \n",
            "\n",
            "[1067 rows x 13 columns]>\n"
          ]
        },
        {
          "output_type": "stream",
          "name": "stderr",
          "text": [
            "/tmp/ipython-input-3256280158.py:20: FutureWarning: Series.fillna with 'method' is deprecated and will raise in a future version. Use obj.ffill() or obj.bfill() instead.\n",
            "  df_ffill['FUELCONSUMPTION_CITY'] = df_ffill['FUELCONSUMPTION_CITY'].fillna(method = 'ffill')\n",
            "/tmp/ipython-input-3256280158.py:24: FutureWarning: Series.fillna with 'method' is deprecated and will raise in a future version. Use obj.ffill() or obj.bfill() instead.\n",
            "  df_bfill['FUELCONSUMPTION_CITY'] = df_bfill['FUELCONSUMPTION_CITY'].fillna(method = 'bfill')\n"
          ]
        }
      ],
      "source": [
        "import pandas as pd\n",
        "df=pd.read_csv(\"FuelConsumption.csv\")\n",
        "#print(df.head())\n",
        "\n",
        "#print(df.tail())\n",
        "\n",
        "#print(df.columns)\n",
        "\n",
        "#print(df.columns.tolist())\n",
        "\n",
        "#print(df.shape)\n",
        "\n",
        "#print(df.info())\n",
        "print(\"\\n\\n\")\n",
        "#print(df.describe())\n",
        "\n",
        "#print(df.describe())\n",
        "\n",
        "df_ffill = df.copy()\n",
        "df_ffill['FUELCONSUMPTION_CITY'] = df_ffill['FUELCONSUMPTION_CITY'].fillna(method = 'ffill')\n",
        "print(df_ffill.isnull().sum)\n",
        "\n",
        "df_bfill = df.copy()\n",
        "df_bfill['FUELCONSUMPTION_CITY'] = df_bfill['FUELCONSUMPTION_CITY'].fillna(method = 'bfill')\n",
        "print(df_bfill.isnull().sum)\n"
      ]
    },
    {
      "cell_type": "code",
      "source": [],
      "metadata": {
        "id": "sRXytEJqNGZn"
      },
      "execution_count": null,
      "outputs": []
    }
  ]
}