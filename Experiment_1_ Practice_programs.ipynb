{
  "nbformat": 4,
  "nbformat_minor": 0,
  "metadata": {
    "colab": {
      "provenance": [],
      "authorship_tag": "ABX9TyNskjnikCebKABTMhwJrXI9",
      "include_colab_link": true
    },
    "kernelspec": {
      "name": "python3",
      "display_name": "Python 3"
    },
    "language_info": {
      "name": "python"
    }
  },
  "cells": [
    {
      "cell_type": "markdown",
      "metadata": {
        "id": "view-in-github",
        "colab_type": "text"
      },
      "source": [
        "<a href=\"https://colab.research.google.com/github/AshmithCodes/Machine-Learning_2CSC305P/blob/main/Practice_programs.ipynb\" target=\"_parent\"><img src=\"https://colab.research.google.com/assets/colab-badge.svg\" alt=\"Open In Colab\"/></a>"
      ]
    },
    {
      "cell_type": "code",
      "execution_count": null,
      "metadata": {
        "id": "zNxnJXk8FePu"
      },
      "outputs": [],
      "source": [
        "'''\n",
        "1.  Addition of 2 nos\n",
        "\n",
        "2.  Odd or Even check\n",
        "\n",
        "3.  Prime number check\n",
        "\n",
        "4.  Largest of 4 nos\n",
        "\n",
        "5.  Factorial of a no\n",
        "\n",
        "6.  Reverse a number\n",
        "\n",
        "7.  Palindrome check\n",
        "\n",
        "8.  Sum of digits\n",
        "\n",
        "9.  Create multiplication table : input\n",
        "\n",
        "10. Calculate 2 nos : +,-,/,*\n",
        "\n",
        "11.    *\n",
        "       * *\n",
        "       * * * upto n lines\n",
        "'''"
      ]
    },
    {
      "cell_type": "code",
      "source": [
        "#add 2 nos\n",
        "a = int(input(\"enter number 1:\"))\n",
        "b= int(input(\"enter number 2:\"))\n",
        "c=a+b\n",
        "print(\"sum of\",a,\"+\",b,\":\",c)"
      ],
      "metadata": {
        "colab": {
          "base_uri": "https://localhost:8080/"
        },
        "id": "JSQ_c5bGHHzP",
        "outputId": "172d9982-9ceb-4560-d21e-0897909ff014"
      },
      "execution_count": null,
      "outputs": [
        {
          "output_type": "stream",
          "name": "stdout",
          "text": [
            "enter number 1:5\n",
            "enter number 2:10\n",
            "sum of 5 + 10 : 15\n"
          ]
        }
      ]
    },
    {
      "cell_type": "code",
      "source": [
        "#odd or even check\n",
        "n=int(input(\"Enter a number:\"))\n",
        "if n==0:\n",
        "  print(\"0 is neither odd nor even\")\n",
        "elif n%2==0:\n",
        "  print(n,\"is even\")\n",
        "else:\n",
        "  print(n,\"is odd\")\n"
      ],
      "metadata": {
        "colab": {
          "base_uri": "https://localhost:8080/"
        },
        "id": "cj08QVdLH0qP",
        "outputId": "39ed4513-e244-4872-ce7e-8729bcf52579"
      },
      "execution_count": null,
      "outputs": [
        {
          "output_type": "stream",
          "name": "stdout",
          "text": [
            "Enter a number:2\n",
            "2 is even\n"
          ]
        }
      ]
    },
    {
      "cell_type": "code",
      "source": [
        "#prime number check\n",
        "n=int(input(\"Enter a number:\"))\n",
        "c=0\n",
        "for i in range(1,n+1):\n",
        "  #print(n%i)\n",
        "  if n%i==0:\n",
        "    c+=0\n",
        "  else:\n",
        "    c+=1\n",
        "if c+2==n:\n",
        "  print(n,\"is Prime\")\n",
        "else:\n",
        "  print(n,\"is not Prime\")\n"
      ],
      "metadata": {
        "colab": {
          "base_uri": "https://localhost:8080/"
        },
        "id": "cQXjovdpI4ov",
        "outputId": "c17914fc-d0bb-4eae-b868-12e5a91807c7"
      },
      "execution_count": null,
      "outputs": [
        {
          "output_type": "stream",
          "name": "stdout",
          "text": [
            "Enter a number:5\n",
            "5 is Prime\n"
          ]
        }
      ]
    },
    {
      "cell_type": "code",
      "source": [
        "#largest of 4 digit no\n",
        "l=[]\n",
        "w=4\n",
        "for i in range(1,n):\n",
        "  x=int(input(\"enter number::\"))\n",
        "  l.append(x)\n",
        "print(max(l))"
      ],
      "metadata": {
        "colab": {
          "base_uri": "https://localhost:8080/"
        },
        "id": "WiHsuL0qJDMe",
        "outputId": "9d29386f-f4c2-4387-b55d-e266ae74c97a"
      },
      "execution_count": null,
      "outputs": [
        {
          "output_type": "stream",
          "name": "stdout",
          "text": [
            "enter number::2\n",
            "enter number::3\n",
            "enter number::4\n",
            "enter number::5\n",
            "5\n"
          ]
        }
      ]
    },
    {
      "cell_type": "code",
      "source": [
        "#Factorial\n",
        "n=int(input(\"enter a number:\"))\n",
        "c=1\n",
        "for i in range(1,n+1):\n",
        "  c*=i\n",
        "print(\"Factorial of\",n,\"is:\",c)"
      ],
      "metadata": {
        "colab": {
          "base_uri": "https://localhost:8080/"
        },
        "id": "KhVGlkwmPbCj",
        "outputId": "cc0c37cd-5523-44ed-d259-c0aa63ec0f2f"
      },
      "execution_count": null,
      "outputs": [
        {
          "output_type": "stream",
          "name": "stdout",
          "text": [
            "enter a number:2\n",
            "Factorial of 2 is: 2\n"
          ]
        }
      ]
    },
    {
      "cell_type": "code",
      "source": [
        "#Reverse a number\n",
        "n=int(input(\"enter a number : \"))\n",
        "s=str(n)\n",
        "l=list(s)\n",
        "lr=l[::-1]\n",
        "k=\" \"\n",
        "#print(int(str(lr[0]+lr[1])))\n",
        "for i in range(0,len(lr)):\n",
        "  #print(lr[i])\n",
        "  k+=(lr[i])\n",
        "  #K=(str(lr[i-1]+lr[i]))\n",
        "k=int(k)\n",
        "print(\"reversed number:\",k)"
      ],
      "metadata": {
        "colab": {
          "base_uri": "https://localhost:8080/"
        },
        "id": "GFBW0dFcQEZT",
        "outputId": "bd51207a-42a7-4682-ecea-639a8ec4801b"
      },
      "execution_count": null,
      "outputs": [
        {
          "output_type": "stream",
          "name": "stdout",
          "text": [
            "enter a number : 123\n",
            "reversed number: 321\n"
          ]
        }
      ]
    },
    {
      "cell_type": "code",
      "source": [
        "#Palindrome check\n",
        "n=input(\"Enter a string : \")\n",
        "if n[::-1]==n:\n",
        "  print(n,\"is a Palindrome\")\n",
        "else:\n",
        "  print(n,\"is not a Palindrome\")"
      ],
      "metadata": {
        "colab": {
          "base_uri": "https://localhost:8080/"
        },
        "id": "SOgo93bp_pmV",
        "outputId": "149e76cd-f39f-4a11-fb1a-3c9fdc969ec0"
      },
      "execution_count": null,
      "outputs": [
        {
          "output_type": "stream",
          "name": "stdout",
          "text": [
            "Enter a string : mom\n",
            "mom is a Palindrome\n"
          ]
        }
      ]
    },
    {
      "cell_type": "code",
      "source": [
        "#Sum of digits\n",
        "n=input(\"enter a digit : \")\n",
        "l=list(n)\n",
        "c=0\n",
        "for i in l:\n",
        "  k=int(i)\n",
        "  c+=k\n",
        "print(c)"
      ],
      "metadata": {
        "colab": {
          "base_uri": "https://localhost:8080/"
        },
        "id": "km46Zp6iAd9e",
        "outputId": "f0245d16-8e02-4a0b-f143-b13e47009e1f"
      },
      "execution_count": null,
      "outputs": [
        {
          "output_type": "stream",
          "name": "stdout",
          "text": [
            "enter a digit : 12\n",
            "3\n"
          ]
        }
      ]
    },
    {
      "cell_type": "code",
      "source": [
        "#Create multiplication table\n",
        "n1=int(input(\"Enter number :\"))\n",
        "n2=int(input(\"Enter times :\"))\n",
        "for i in range(0,n2+1):\n",
        "  print(n1,\"x\",i,\"=\",n1*i)\n",
        "\n"
      ],
      "metadata": {
        "colab": {
          "base_uri": "https://localhost:8080/"
        },
        "id": "Gf0cmTEYBQz5",
        "outputId": "399a9b70-2c28-41d8-d08a-574b377077d1"
      },
      "execution_count": null,
      "outputs": [
        {
          "output_type": "stream",
          "name": "stdout",
          "text": [
            "Enter number :69\n",
            "Enter times :10\n",
            "69 x 0 = 0\n",
            "69 x 1 = 69\n",
            "69 x 2 = 138\n",
            "69 x 3 = 207\n",
            "69 x 4 = 276\n",
            "69 x 5 = 345\n",
            "69 x 6 = 414\n",
            "69 x 7 = 483\n",
            "69 x 8 = 552\n",
            "69 x 9 = 621\n",
            "69 x 10 = 690\n"
          ]
        }
      ]
    },
    {
      "cell_type": "code",
      "source": [
        "#calculator +,-,*,/\n",
        "n1=int(input(\"Enter number 1 :\"))\n",
        "n2=int(input(\"Enter number 2 :\"))\n",
        "k=int(input('''enter an option : [+ = 1 |- = 2 | * = 3 | / = 4] : '''))\n",
        "if k==1:\n",
        "  print(n1+n2)\n",
        "elif k==2:\n",
        "  print(n1-n2)\n",
        "elif k==3:\n",
        "  print(n1*n2)\n",
        "else:\n",
        "  print(n1/n2)\n",
        "\n",
        "\n"
      ],
      "metadata": {
        "colab": {
          "base_uri": "https://localhost:8080/"
        },
        "id": "gTfRgxKXCn8f",
        "outputId": "41e96aee-bd4b-49c9-8702-b8412b5d7682"
      },
      "execution_count": null,
      "outputs": [
        {
          "output_type": "stream",
          "name": "stdout",
          "text": [
            "Enter number 1 :1\n",
            "Enter number 2 :3\n",
            "enter an option : [+ = 1 |- = 2 | * = 3 | / = 4] : 4\n",
            "0.3333333333333333\n"
          ]
        }
      ]
    },
    {
      "cell_type": "code",
      "source": [
        "'''*\n",
        "   * *\n",
        "   * * *'''\n",
        "a=\" * \"\n",
        "n=int(input(\"enter number of lines : \"))\n",
        "for i in range(0,n+1):\n",
        "  print((a*i)+\"\\n\")"
      ],
      "metadata": {
        "colab": {
          "base_uri": "https://localhost:8080/"
        },
        "id": "UfiKPFVSEqGO",
        "outputId": "17164bbf-9b1e-406f-966f-d5b64ce350d6"
      },
      "execution_count": null,
      "outputs": [
        {
          "output_type": "stream",
          "name": "stdout",
          "text": [
            "enter number of lines : 10\n",
            "\n",
            "\n",
            " * \n",
            "\n",
            " *  * \n",
            "\n",
            " *  *  * \n",
            "\n",
            " *  *  *  * \n",
            "\n",
            " *  *  *  *  * \n",
            "\n",
            " *  *  *  *  *  * \n",
            "\n",
            " *  *  *  *  *  *  * \n",
            "\n",
            " *  *  *  *  *  *  *  * \n",
            "\n",
            " *  *  *  *  *  *  *  *  * \n",
            "\n",
            " *  *  *  *  *  *  *  *  *  * \n",
            "\n"
          ]
        }
      ]
    }
  ]
}
